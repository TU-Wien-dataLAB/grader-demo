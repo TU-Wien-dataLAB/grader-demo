{
 "cells": [
  {
   "cell_type": "markdown",
   "id": "b78a0025-c961-4c24-b0d4-7a04a5ff0cba",
   "metadata": {
    "editable": true,
    "nbgrader": {
     "grade": false,
     "grade_id": "cell-9daa3a541ee61713",
     "locked": true,
     "schema_version": 3,
     "solution": false,
     "task": false
    },
    "slideshow": {
     "slide_type": ""
    },
    "tags": []
   },
   "source": [
    "# Prime Example\n",
    "\n",
    "This notebook is a showcase for the Grader Service."
   ]
  },
  {
   "cell_type": "markdown",
   "id": "ab1a0ee6-8b47-46a7-9086-b62650b89b14",
   "metadata": {
    "editable": true,
    "nbgrader": {
     "grade": false,
     "grade_id": "cell-e886b69d819e2f51",
     "locked": true,
     "schema_version": 3,
     "solution": false,
     "task": false
    },
    "slideshow": {
     "slide_type": ""
    },
    "tags": []
   },
   "source": [
    "## First N primes\n",
    "\n",
    "Implement the function below that takes an integer parameter (n) and returns a list of the first n prime numbers starting from 2."
   ]
  },
  {
   "cell_type": "code",
   "execution_count": 1,
   "id": "d07008fb-d9a0-49e9-beb0-01fcd85477b7",
   "metadata": {
    "editable": true,
    "hint": "A number is prime if it is not divisible by any previous (prime) numbers!",
    "nbgrader": {
     "grade": false,
     "grade_id": "cell-a4b81a457c13e87d",
     "locked": false,
     "schema_version": 3,
     "solution": true,
     "task": false
    },
    "slideshow": {
     "slide_type": ""
    },
    "tags": []
   },
   "outputs": [],
   "source": [
    "def get_n_primes(n):\n",
    "    ### BEGIN SOLUTION\n",
    "    primes = []\n",
    "    c = 2\n",
    "    while n > 0:\n",
    "        if all(map(lambda v: c % v != 0, primes)):\n",
    "            primes.append(c)\n",
    "        c += 1\n",
    "        if len(primes) == n:\n",
    "            return primes\n",
    "    return primes\n",
    "    ### END SOLUTION"
   ]
  },
  {
   "cell_type": "code",
   "execution_count": 2,
   "id": "07ee194d-eeee-4af5-af73-9c98e47aa36b",
   "metadata": {
    "editable": true,
    "nbgrader": {
     "grade": true,
     "grade_id": "cell-9726d865732d68d8",
     "locked": true,
     "points": 1,
     "schema_version": 3,
     "solution": false,
     "task": false
    },
    "slideshow": {
     "slide_type": ""
    },
    "tags": []
   },
   "outputs": [],
   "source": [
    "assert get_n_primes(3) == [2, 3, 5]\n",
    "assert get_n_primes(0) == []"
   ]
  },
  {
   "cell_type": "code",
   "execution_count": 5,
   "id": "1b7213b0-153f-4a72-b464-0bcec3551beb",
   "metadata": {
    "editable": true,
    "nbgrader": {
     "grade": true,
     "grade_id": "cell-585c88cd902849ed",
     "locked": true,
     "points": 2,
     "schema_version": 3,
     "solution": false,
     "task": false
    },
    "slideshow": {
     "slide_type": ""
    },
    "tags": []
   },
   "outputs": [],
   "source": [
    "# Hidden tests\n",
    "### BEGIN HIDDEN TESTS\n",
    "assert get_n_primes(1000)[-10:] == [7841, 7853, 7867, 7873, 7877, 7879, 7883, 7901, 7907, 7919]\n",
    "### END HIDDEN TESTS"
   ]
  },
  {
   "cell_type": "markdown",
   "id": "8f50dccd-c68f-4768-bafb-daae6cb72d9f",
   "metadata": {
    "editable": true,
    "nbgrader": {
     "grade": false,
     "grade_id": "cell-5466a2ce33ed85ea",
     "locked": true,
     "schema_version": 3,
     "solution": false,
     "task": false
    },
    "slideshow": {
     "slide_type": ""
    },
    "tags": []
   },
   "source": [
    "### Does this function also provide an efficient way to find the nth prime instead of all n primes? Why or why not?"
   ]
  },
  {
   "cell_type": "markdown",
   "id": "a2b95af8-4438-4f05-afc7-1e921cf9c298",
   "metadata": {
    "editable": true,
    "nbgrader": {
     "grade": true,
     "grade_id": "cell-705a6f92659c95b9",
     "locked": false,
     "points": 1,
     "schema_version": 3,
     "solution": true,
     "task": false
    },
    "slideshow": {
     "slide_type": ""
    },
    "tags": []
   },
   "source": []
  },
  {
   "cell_type": "code",
   "execution_count": null,
   "id": "b87789f8-9eee-4ae2-8b25-5557dd9c1299",
   "metadata": {
    "editable": true,
    "slideshow": {
     "slide_type": ""
    },
    "tags": []
   },
   "outputs": [],
   "source": []
  }
 ],
 "metadata": {
  "kernelspec": {
   "display_name": "Python 3 (ipykernel)",
   "language": "python",
   "name": "python3"
  },
  "language_info": {
   "codemirror_mode": {
    "name": "ipython",
    "version": 3
   },
   "file_extension": ".py",
   "mimetype": "text/x-python",
   "name": "python",
   "nbconvert_exporter": "python",
   "pygments_lexer": "ipython3",
   "version": "3.9.15"
  }
 },
 "nbformat": 4,
 "nbformat_minor": 5
}
